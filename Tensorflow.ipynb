{
  "nbformat": 4,
  "nbformat_minor": 0,
  "metadata": {
    "colab": {
      "provenance": [],
      "collapsed_sections": []
    },
    "kernelspec": {
      "name": "python3",
      "display_name": "Python 3"
    },
    "language_info": {
      "name": "python"
    }
  },
  "cells": [
    {
      "cell_type": "code",
      "execution_count": 1,
      "metadata": {
        "colab": {
          "base_uri": "https://localhost:8080/"
        },
        "id": "T7styNYNc-0X",
        "outputId": "ead9f3ba-5789-41e9-8664-e3a8b5aba580"
      },
      "outputs": [
        {
          "output_type": "stream",
          "name": "stdout",
          "text": [
            "Looking in indexes: https://pypi.org/simple, https://us-python.pkg.dev/colab-wheels/public/simple/\n",
            "Requirement already satisfied: tensorflow in /usr/local/lib/python3.7/dist-packages (2.8.2+zzzcolab20220719082949)\n",
            "Requirement already satisfied: wrapt>=1.11.0 in /usr/local/lib/python3.7/dist-packages (from tensorflow) (1.14.1)\n",
            "Requirement already satisfied: typing-extensions>=3.6.6 in /usr/local/lib/python3.7/dist-packages (from tensorflow) (4.1.1)\n",
            "Requirement already satisfied: tensorflow-estimator<2.9,>=2.8 in /usr/local/lib/python3.7/dist-packages (from tensorflow) (2.8.0)\n",
            "Requirement already satisfied: astunparse>=1.6.0 in /usr/local/lib/python3.7/dist-packages (from tensorflow) (1.6.3)\n",
            "Requirement already satisfied: google-pasta>=0.1.1 in /usr/local/lib/python3.7/dist-packages (from tensorflow) (0.2.0)\n",
            "Requirement already satisfied: h5py>=2.9.0 in /usr/local/lib/python3.7/dist-packages (from tensorflow) (3.1.0)\n",
            "Requirement already satisfied: libclang>=9.0.1 in /usr/local/lib/python3.7/dist-packages (from tensorflow) (14.0.6)\n",
            "Requirement already satisfied: six>=1.12.0 in /usr/local/lib/python3.7/dist-packages (from tensorflow) (1.15.0)\n",
            "Requirement already satisfied: termcolor>=1.1.0 in /usr/local/lib/python3.7/dist-packages (from tensorflow) (1.1.0)\n",
            "Requirement already satisfied: absl-py>=0.4.0 in /usr/local/lib/python3.7/dist-packages (from tensorflow) (1.2.0)\n",
            "Requirement already satisfied: numpy>=1.20 in /usr/local/lib/python3.7/dist-packages (from tensorflow) (1.21.6)\n",
            "Requirement already satisfied: flatbuffers>=1.12 in /usr/local/lib/python3.7/dist-packages (from tensorflow) (2.0.7)\n",
            "Requirement already satisfied: keras<2.9,>=2.8.0rc0 in /usr/local/lib/python3.7/dist-packages (from tensorflow) (2.8.0)\n",
            "Requirement already satisfied: tensorflow-io-gcs-filesystem>=0.23.1 in /usr/local/lib/python3.7/dist-packages (from tensorflow) (0.26.0)\n",
            "Requirement already satisfied: opt-einsum>=2.3.2 in /usr/local/lib/python3.7/dist-packages (from tensorflow) (3.3.0)\n",
            "Requirement already satisfied: setuptools in /usr/local/lib/python3.7/dist-packages (from tensorflow) (57.4.0)\n",
            "Requirement already satisfied: keras-preprocessing>=1.1.1 in /usr/local/lib/python3.7/dist-packages (from tensorflow) (1.1.2)\n",
            "Requirement already satisfied: tensorboard<2.9,>=2.8 in /usr/local/lib/python3.7/dist-packages (from tensorflow) (2.8.0)\n",
            "Requirement already satisfied: protobuf<3.20,>=3.9.2 in /usr/local/lib/python3.7/dist-packages (from tensorflow) (3.17.3)\n",
            "Requirement already satisfied: grpcio<2.0,>=1.24.3 in /usr/local/lib/python3.7/dist-packages (from tensorflow) (1.47.0)\n",
            "Requirement already satisfied: gast>=0.2.1 in /usr/local/lib/python3.7/dist-packages (from tensorflow) (0.5.3)\n",
            "Requirement already satisfied: wheel<1.0,>=0.23.0 in /usr/local/lib/python3.7/dist-packages (from astunparse>=1.6.0->tensorflow) (0.37.1)\n",
            "Requirement already satisfied: cached-property in /usr/local/lib/python3.7/dist-packages (from h5py>=2.9.0->tensorflow) (1.5.2)\n",
            "Requirement already satisfied: werkzeug>=0.11.15 in /usr/local/lib/python3.7/dist-packages (from tensorboard<2.9,>=2.8->tensorflow) (1.0.1)\n",
            "Requirement already satisfied: google-auth-oauthlib<0.5,>=0.4.1 in /usr/local/lib/python3.7/dist-packages (from tensorboard<2.9,>=2.8->tensorflow) (0.4.6)\n",
            "Requirement already satisfied: google-auth<3,>=1.6.3 in /usr/local/lib/python3.7/dist-packages (from tensorboard<2.9,>=2.8->tensorflow) (1.35.0)\n",
            "Requirement already satisfied: requests<3,>=2.21.0 in /usr/local/lib/python3.7/dist-packages (from tensorboard<2.9,>=2.8->tensorflow) (2.23.0)\n",
            "Requirement already satisfied: markdown>=2.6.8 in /usr/local/lib/python3.7/dist-packages (from tensorboard<2.9,>=2.8->tensorflow) (3.4.1)\n",
            "Requirement already satisfied: tensorboard-data-server<0.7.0,>=0.6.0 in /usr/local/lib/python3.7/dist-packages (from tensorboard<2.9,>=2.8->tensorflow) (0.6.1)\n",
            "Requirement already satisfied: tensorboard-plugin-wit>=1.6.0 in /usr/local/lib/python3.7/dist-packages (from tensorboard<2.9,>=2.8->tensorflow) (1.8.1)\n",
            "Requirement already satisfied: cachetools<5.0,>=2.0.0 in /usr/local/lib/python3.7/dist-packages (from google-auth<3,>=1.6.3->tensorboard<2.9,>=2.8->tensorflow) (4.2.4)\n",
            "Requirement already satisfied: rsa<5,>=3.1.4 in /usr/local/lib/python3.7/dist-packages (from google-auth<3,>=1.6.3->tensorboard<2.9,>=2.8->tensorflow) (4.9)\n",
            "Requirement already satisfied: pyasn1-modules>=0.2.1 in /usr/local/lib/python3.7/dist-packages (from google-auth<3,>=1.6.3->tensorboard<2.9,>=2.8->tensorflow) (0.2.8)\n",
            "Requirement already satisfied: requests-oauthlib>=0.7.0 in /usr/local/lib/python3.7/dist-packages (from google-auth-oauthlib<0.5,>=0.4.1->tensorboard<2.9,>=2.8->tensorflow) (1.3.1)\n",
            "Requirement already satisfied: importlib-metadata>=4.4 in /usr/local/lib/python3.7/dist-packages (from markdown>=2.6.8->tensorboard<2.9,>=2.8->tensorflow) (4.12.0)\n",
            "Requirement already satisfied: zipp>=0.5 in /usr/local/lib/python3.7/dist-packages (from importlib-metadata>=4.4->markdown>=2.6.8->tensorboard<2.9,>=2.8->tensorflow) (3.8.1)\n",
            "Requirement already satisfied: pyasn1<0.5.0,>=0.4.6 in /usr/local/lib/python3.7/dist-packages (from pyasn1-modules>=0.2.1->google-auth<3,>=1.6.3->tensorboard<2.9,>=2.8->tensorflow) (0.4.8)\n",
            "Requirement already satisfied: chardet<4,>=3.0.2 in /usr/local/lib/python3.7/dist-packages (from requests<3,>=2.21.0->tensorboard<2.9,>=2.8->tensorflow) (3.0.4)\n",
            "Requirement already satisfied: idna<3,>=2.5 in /usr/local/lib/python3.7/dist-packages (from requests<3,>=2.21.0->tensorboard<2.9,>=2.8->tensorflow) (2.10)\n",
            "Requirement already satisfied: certifi>=2017.4.17 in /usr/local/lib/python3.7/dist-packages (from requests<3,>=2.21.0->tensorboard<2.9,>=2.8->tensorflow) (2022.6.15)\n",
            "Requirement already satisfied: urllib3!=1.25.0,!=1.25.1,<1.26,>=1.21.1 in /usr/local/lib/python3.7/dist-packages (from requests<3,>=2.21.0->tensorboard<2.9,>=2.8->tensorflow) (1.24.3)\n",
            "Requirement already satisfied: oauthlib>=3.0.0 in /usr/local/lib/python3.7/dist-packages (from requests-oauthlib>=0.7.0->google-auth-oauthlib<0.5,>=0.4.1->tensorboard<2.9,>=2.8->tensorflow) (3.2.0)\n"
          ]
        }
      ],
      "source": [
        "!pip install tensorflow "
      ]
    },
    {
      "cell_type": "code",
      "source": [
        "!pip install keras"
      ],
      "metadata": {
        "colab": {
          "base_uri": "https://localhost:8080/"
        },
        "id": "iMMV6fnMDmVe",
        "outputId": "df823672-9e04-428a-c08f-bb466baaea31"
      },
      "execution_count": 2,
      "outputs": [
        {
          "output_type": "stream",
          "name": "stdout",
          "text": [
            "Looking in indexes: https://pypi.org/simple, https://us-python.pkg.dev/colab-wheels/public/simple/\n",
            "Requirement already satisfied: keras in /usr/local/lib/python3.7/dist-packages (2.8.0)\n"
          ]
        }
      ]
    },
    {
      "cell_type": "code",
      "source": [
        "import pandas as pd\n",
        "import numpy as np\n",
        "import matplotlib.pyplot as plt\n",
        "import seaborn as sns\n",
        "from sklearn.model_selection import train_test_split\n",
        "from sklearn.metrics import classification_report, accuracy_score\n",
        "from sklearn.preprocessing import Normalizer\n",
        "from keras.layers import Activation, Dense, Dropout, BatchNormalization, Input\n",
        "from keras.models import Model\n",
        "import tensorflow.keras\n",
        "from tensorflow.keras.optimizers import Adam\n",
        "from keras.callbacks import ReduceLROnPlateau, EarlyStopping\n",
        "%matplotlib inline\n",
        "plt.style.use('fivethirtyeight')"
      ],
      "metadata": {
        "id": "CpcZZY7Vf4Yx"
      },
      "execution_count": 3,
      "outputs": []
    },
    {
      "cell_type": "code",
      "source": [
        "import tensorflow as tf\n",
        "\n",
        "print(tf.__version__)"
      ],
      "metadata": {
        "colab": {
          "base_uri": "https://localhost:8080/"
        },
        "id": "5VMct9ojdHCF",
        "outputId": "6ab6aa20-6dc2-4949-f238-bc1866a46f1e"
      },
      "execution_count": 4,
      "outputs": [
        {
          "output_type": "stream",
          "name": "stdout",
          "text": [
            "2.8.2\n"
          ]
        }
      ]
    },
    {
      "cell_type": "code",
      "source": [
        "import tensorflow as tf\n",
        "import pandas as pd"
      ],
      "metadata": {
        "id": "c0gz66E7dbgc"
      },
      "execution_count": 5,
      "outputs": []
    },
    {
      "cell_type": "code",
      "source": [
        "dataset = pd.read_csv(\"/content/diabetes.csv\",header=None) "
      ],
      "metadata": {
        "id": "e7Yx8scWeNiz"
      },
      "execution_count": 6,
      "outputs": []
    },
    {
      "cell_type": "code",
      "source": [
        "dataset"
      ],
      "metadata": {
        "id": "YZrSE3tveknS",
        "colab": {
          "base_uri": "https://localhost:8080/",
          "height": 424
        },
        "outputId": "299d8080-604c-49b4-cf42-a8191cfbe621"
      },
      "execution_count": 7,
      "outputs": [
        {
          "output_type": "execute_result",
          "data": {
            "text/plain": [
              "            0         1         2         3         4         5         6  \\\n",
              "0   -0.294118  0.487437  0.180328 -0.292929  0.000000  0.001490 -0.531170   \n",
              "1   -0.882353 -0.145729  0.081967 -0.414141  0.000000 -0.207153 -0.766866   \n",
              "2   -0.058824  0.839196  0.049180  0.000000  0.000000 -0.305514 -0.492741   \n",
              "3   -0.882353 -0.105528  0.081967 -0.535354 -0.777778 -0.162444 -0.923997   \n",
              "4    0.000000  0.376884 -0.344262 -0.292929 -0.602837  0.284650  0.887276   \n",
              "..        ...       ...       ...       ...       ...       ...       ...   \n",
              "754  0.176471  0.015075  0.245902 -0.030303 -0.574468 -0.019374 -0.920581   \n",
              "755 -0.764706  0.226131  0.147541 -0.454545  0.000000  0.096870 -0.776260   \n",
              "756 -0.411765  0.216080  0.180328 -0.535354 -0.735225 -0.219076 -0.857387   \n",
              "757 -0.882353  0.266332 -0.016393  0.000000  0.000000 -0.102832 -0.768574   \n",
              "758 -0.882353 -0.065327  0.147541 -0.373737  0.000000 -0.093890 -0.797609   \n",
              "\n",
              "            7  8  \n",
              "0   -0.033333  0  \n",
              "1   -0.666667  1  \n",
              "2   -0.633333  0  \n",
              "3    0.000000  1  \n",
              "4   -0.600000  0  \n",
              "..        ... ..  \n",
              "754  0.400000  1  \n",
              "755 -0.800000  1  \n",
              "756 -0.700000  1  \n",
              "757 -0.133333  0  \n",
              "758 -0.933333  1  \n",
              "\n",
              "[759 rows x 9 columns]"
            ],
            "text/html": [
              "\n",
              "  <div id=\"df-03fac1c1-2cd7-4d22-8fb8-1a3f2e46c1b2\">\n",
              "    <div class=\"colab-df-container\">\n",
              "      <div>\n",
              "<style scoped>\n",
              "    .dataframe tbody tr th:only-of-type {\n",
              "        vertical-align: middle;\n",
              "    }\n",
              "\n",
              "    .dataframe tbody tr th {\n",
              "        vertical-align: top;\n",
              "    }\n",
              "\n",
              "    .dataframe thead th {\n",
              "        text-align: right;\n",
              "    }\n",
              "</style>\n",
              "<table border=\"1\" class=\"dataframe\">\n",
              "  <thead>\n",
              "    <tr style=\"text-align: right;\">\n",
              "      <th></th>\n",
              "      <th>0</th>\n",
              "      <th>1</th>\n",
              "      <th>2</th>\n",
              "      <th>3</th>\n",
              "      <th>4</th>\n",
              "      <th>5</th>\n",
              "      <th>6</th>\n",
              "      <th>7</th>\n",
              "      <th>8</th>\n",
              "    </tr>\n",
              "  </thead>\n",
              "  <tbody>\n",
              "    <tr>\n",
              "      <th>0</th>\n",
              "      <td>-0.294118</td>\n",
              "      <td>0.487437</td>\n",
              "      <td>0.180328</td>\n",
              "      <td>-0.292929</td>\n",
              "      <td>0.000000</td>\n",
              "      <td>0.001490</td>\n",
              "      <td>-0.531170</td>\n",
              "      <td>-0.033333</td>\n",
              "      <td>0</td>\n",
              "    </tr>\n",
              "    <tr>\n",
              "      <th>1</th>\n",
              "      <td>-0.882353</td>\n",
              "      <td>-0.145729</td>\n",
              "      <td>0.081967</td>\n",
              "      <td>-0.414141</td>\n",
              "      <td>0.000000</td>\n",
              "      <td>-0.207153</td>\n",
              "      <td>-0.766866</td>\n",
              "      <td>-0.666667</td>\n",
              "      <td>1</td>\n",
              "    </tr>\n",
              "    <tr>\n",
              "      <th>2</th>\n",
              "      <td>-0.058824</td>\n",
              "      <td>0.839196</td>\n",
              "      <td>0.049180</td>\n",
              "      <td>0.000000</td>\n",
              "      <td>0.000000</td>\n",
              "      <td>-0.305514</td>\n",
              "      <td>-0.492741</td>\n",
              "      <td>-0.633333</td>\n",
              "      <td>0</td>\n",
              "    </tr>\n",
              "    <tr>\n",
              "      <th>3</th>\n",
              "      <td>-0.882353</td>\n",
              "      <td>-0.105528</td>\n",
              "      <td>0.081967</td>\n",
              "      <td>-0.535354</td>\n",
              "      <td>-0.777778</td>\n",
              "      <td>-0.162444</td>\n",
              "      <td>-0.923997</td>\n",
              "      <td>0.000000</td>\n",
              "      <td>1</td>\n",
              "    </tr>\n",
              "    <tr>\n",
              "      <th>4</th>\n",
              "      <td>0.000000</td>\n",
              "      <td>0.376884</td>\n",
              "      <td>-0.344262</td>\n",
              "      <td>-0.292929</td>\n",
              "      <td>-0.602837</td>\n",
              "      <td>0.284650</td>\n",
              "      <td>0.887276</td>\n",
              "      <td>-0.600000</td>\n",
              "      <td>0</td>\n",
              "    </tr>\n",
              "    <tr>\n",
              "      <th>...</th>\n",
              "      <td>...</td>\n",
              "      <td>...</td>\n",
              "      <td>...</td>\n",
              "      <td>...</td>\n",
              "      <td>...</td>\n",
              "      <td>...</td>\n",
              "      <td>...</td>\n",
              "      <td>...</td>\n",
              "      <td>...</td>\n",
              "    </tr>\n",
              "    <tr>\n",
              "      <th>754</th>\n",
              "      <td>0.176471</td>\n",
              "      <td>0.015075</td>\n",
              "      <td>0.245902</td>\n",
              "      <td>-0.030303</td>\n",
              "      <td>-0.574468</td>\n",
              "      <td>-0.019374</td>\n",
              "      <td>-0.920581</td>\n",
              "      <td>0.400000</td>\n",
              "      <td>1</td>\n",
              "    </tr>\n",
              "    <tr>\n",
              "      <th>755</th>\n",
              "      <td>-0.764706</td>\n",
              "      <td>0.226131</td>\n",
              "      <td>0.147541</td>\n",
              "      <td>-0.454545</td>\n",
              "      <td>0.000000</td>\n",
              "      <td>0.096870</td>\n",
              "      <td>-0.776260</td>\n",
              "      <td>-0.800000</td>\n",
              "      <td>1</td>\n",
              "    </tr>\n",
              "    <tr>\n",
              "      <th>756</th>\n",
              "      <td>-0.411765</td>\n",
              "      <td>0.216080</td>\n",
              "      <td>0.180328</td>\n",
              "      <td>-0.535354</td>\n",
              "      <td>-0.735225</td>\n",
              "      <td>-0.219076</td>\n",
              "      <td>-0.857387</td>\n",
              "      <td>-0.700000</td>\n",
              "      <td>1</td>\n",
              "    </tr>\n",
              "    <tr>\n",
              "      <th>757</th>\n",
              "      <td>-0.882353</td>\n",
              "      <td>0.266332</td>\n",
              "      <td>-0.016393</td>\n",
              "      <td>0.000000</td>\n",
              "      <td>0.000000</td>\n",
              "      <td>-0.102832</td>\n",
              "      <td>-0.768574</td>\n",
              "      <td>-0.133333</td>\n",
              "      <td>0</td>\n",
              "    </tr>\n",
              "    <tr>\n",
              "      <th>758</th>\n",
              "      <td>-0.882353</td>\n",
              "      <td>-0.065327</td>\n",
              "      <td>0.147541</td>\n",
              "      <td>-0.373737</td>\n",
              "      <td>0.000000</td>\n",
              "      <td>-0.093890</td>\n",
              "      <td>-0.797609</td>\n",
              "      <td>-0.933333</td>\n",
              "      <td>1</td>\n",
              "    </tr>\n",
              "  </tbody>\n",
              "</table>\n",
              "<p>759 rows × 9 columns</p>\n",
              "</div>\n",
              "      <button class=\"colab-df-convert\" onclick=\"convertToInteractive('df-03fac1c1-2cd7-4d22-8fb8-1a3f2e46c1b2')\"\n",
              "              title=\"Convert this dataframe to an interactive table.\"\n",
              "              style=\"display:none;\">\n",
              "        \n",
              "  <svg xmlns=\"http://www.w3.org/2000/svg\" height=\"24px\"viewBox=\"0 0 24 24\"\n",
              "       width=\"24px\">\n",
              "    <path d=\"M0 0h24v24H0V0z\" fill=\"none\"/>\n",
              "    <path d=\"M18.56 5.44l.94 2.06.94-2.06 2.06-.94-2.06-.94-.94-2.06-.94 2.06-2.06.94zm-11 1L8.5 8.5l.94-2.06 2.06-.94-2.06-.94L8.5 2.5l-.94 2.06-2.06.94zm10 10l.94 2.06.94-2.06 2.06-.94-2.06-.94-.94-2.06-.94 2.06-2.06.94z\"/><path d=\"M17.41 7.96l-1.37-1.37c-.4-.4-.92-.59-1.43-.59-.52 0-1.04.2-1.43.59L10.3 9.45l-7.72 7.72c-.78.78-.78 2.05 0 2.83L4 21.41c.39.39.9.59 1.41.59.51 0 1.02-.2 1.41-.59l7.78-7.78 2.81-2.81c.8-.78.8-2.07 0-2.86zM5.41 20L4 18.59l7.72-7.72 1.47 1.35L5.41 20z\"/>\n",
              "  </svg>\n",
              "      </button>\n",
              "      \n",
              "  <style>\n",
              "    .colab-df-container {\n",
              "      display:flex;\n",
              "      flex-wrap:wrap;\n",
              "      gap: 12px;\n",
              "    }\n",
              "\n",
              "    .colab-df-convert {\n",
              "      background-color: #E8F0FE;\n",
              "      border: none;\n",
              "      border-radius: 50%;\n",
              "      cursor: pointer;\n",
              "      display: none;\n",
              "      fill: #1967D2;\n",
              "      height: 32px;\n",
              "      padding: 0 0 0 0;\n",
              "      width: 32px;\n",
              "    }\n",
              "\n",
              "    .colab-df-convert:hover {\n",
              "      background-color: #E2EBFA;\n",
              "      box-shadow: 0px 1px 2px rgba(60, 64, 67, 0.3), 0px 1px 3px 1px rgba(60, 64, 67, 0.15);\n",
              "      fill: #174EA6;\n",
              "    }\n",
              "\n",
              "    [theme=dark] .colab-df-convert {\n",
              "      background-color: #3B4455;\n",
              "      fill: #D2E3FC;\n",
              "    }\n",
              "\n",
              "    [theme=dark] .colab-df-convert:hover {\n",
              "      background-color: #434B5C;\n",
              "      box-shadow: 0px 1px 3px 1px rgba(0, 0, 0, 0.15);\n",
              "      filter: drop-shadow(0px 1px 2px rgba(0, 0, 0, 0.3));\n",
              "      fill: #FFFFFF;\n",
              "    }\n",
              "  </style>\n",
              "\n",
              "      <script>\n",
              "        const buttonEl =\n",
              "          document.querySelector('#df-03fac1c1-2cd7-4d22-8fb8-1a3f2e46c1b2 button.colab-df-convert');\n",
              "        buttonEl.style.display =\n",
              "          google.colab.kernel.accessAllowed ? 'block' : 'none';\n",
              "\n",
              "        async function convertToInteractive(key) {\n",
              "          const element = document.querySelector('#df-03fac1c1-2cd7-4d22-8fb8-1a3f2e46c1b2');\n",
              "          const dataTable =\n",
              "            await google.colab.kernel.invokeFunction('convertToInteractive',\n",
              "                                                     [key], {});\n",
              "          if (!dataTable) return;\n",
              "\n",
              "          const docLinkHtml = 'Like what you see? Visit the ' +\n",
              "            '<a target=\"_blank\" href=https://colab.research.google.com/notebooks/data_table.ipynb>data table notebook</a>'\n",
              "            + ' to learn more about interactive tables.';\n",
              "          element.innerHTML = '';\n",
              "          dataTable['output_type'] = 'display_data';\n",
              "          await google.colab.output.renderOutput(dataTable, element);\n",
              "          const docLink = document.createElement('div');\n",
              "          docLink.innerHTML = docLinkHtml;\n",
              "          element.appendChild(docLink);\n",
              "        }\n",
              "      </script>\n",
              "    </div>\n",
              "  </div>\n",
              "  "
            ]
          },
          "metadata": {},
          "execution_count": 7
        }
      ]
    },
    {
      "cell_type": "code",
      "source": [
        "# reanming the DataFrame columns\n",
        "df = dataset.set_axis(['V', 'W', 'X', 'Y', 'Z','A','B','C','D'], axis=1, inplace=False);\n",
        "\n",
        "\n"
      ],
      "metadata": {
        "id": "dj9ZUt4-_Hl7"
      },
      "execution_count": 8,
      "outputs": []
    },
    {
      "cell_type": "markdown",
      "source": [
        "Pre processing "
      ],
      "metadata": {
        "id": "X2Z8-zxyfcq5"
      }
    },
    {
      "cell_type": "code",
      "source": [
        "# displaying the DataFrame\n",
        "print(df)"
      ],
      "metadata": {
        "id": "lfdONizL_nwE",
        "colab": {
          "base_uri": "https://localhost:8080/"
        },
        "outputId": "caa91cb8-af17-4312-ce69-16a893a2c418"
      },
      "execution_count": 9,
      "outputs": [
        {
          "output_type": "stream",
          "name": "stdout",
          "text": [
            "            V         W         X         Y         Z         A         B  \\\n",
            "0   -0.294118  0.487437  0.180328 -0.292929  0.000000  0.001490 -0.531170   \n",
            "1   -0.882353 -0.145729  0.081967 -0.414141  0.000000 -0.207153 -0.766866   \n",
            "2   -0.058824  0.839196  0.049180  0.000000  0.000000 -0.305514 -0.492741   \n",
            "3   -0.882353 -0.105528  0.081967 -0.535354 -0.777778 -0.162444 -0.923997   \n",
            "4    0.000000  0.376884 -0.344262 -0.292929 -0.602837  0.284650  0.887276   \n",
            "..        ...       ...       ...       ...       ...       ...       ...   \n",
            "754  0.176471  0.015075  0.245902 -0.030303 -0.574468 -0.019374 -0.920581   \n",
            "755 -0.764706  0.226131  0.147541 -0.454545  0.000000  0.096870 -0.776260   \n",
            "756 -0.411765  0.216080  0.180328 -0.535354 -0.735225 -0.219076 -0.857387   \n",
            "757 -0.882353  0.266332 -0.016393  0.000000  0.000000 -0.102832 -0.768574   \n",
            "758 -0.882353 -0.065327  0.147541 -0.373737  0.000000 -0.093890 -0.797609   \n",
            "\n",
            "            C  D  \n",
            "0   -0.033333  0  \n",
            "1   -0.666667  1  \n",
            "2   -0.633333  0  \n",
            "3    0.000000  1  \n",
            "4   -0.600000  0  \n",
            "..        ... ..  \n",
            "754  0.400000  1  \n",
            "755 -0.800000  1  \n",
            "756 -0.700000  1  \n",
            "757 -0.133333  0  \n",
            "758 -0.933333  1  \n",
            "\n",
            "[759 rows x 9 columns]\n"
          ]
        }
      ]
    },
    {
      "cell_type": "code",
      "source": [
        "df.dtypes"
      ],
      "metadata": {
        "id": "q1g9Ph0vaqIb",
        "colab": {
          "base_uri": "https://localhost:8080/"
        },
        "outputId": "6e0aa438-5ee5-4f0e-9e85-97918800b250"
      },
      "execution_count": 10,
      "outputs": [
        {
          "output_type": "execute_result",
          "data": {
            "text/plain": [
              "V    float64\n",
              "W    float64\n",
              "X    float64\n",
              "Y    float64\n",
              "Z    float64\n",
              "A    float64\n",
              "B    float64\n",
              "C    float64\n",
              "D      int64\n",
              "dtype: object"
            ]
          },
          "metadata": {},
          "execution_count": 10
        }
      ]
    },
    {
      "cell_type": "code",
      "source": [
        "df.isna().sum()"
      ],
      "metadata": {
        "id": "it6h2xPRz4Cj",
        "colab": {
          "base_uri": "https://localhost:8080/"
        },
        "outputId": "0d49d11f-91d6-40bd-e5b1-1bff028fbd73"
      },
      "execution_count": 11,
      "outputs": [
        {
          "output_type": "execute_result",
          "data": {
            "text/plain": [
              "V    0\n",
              "W    0\n",
              "X    0\n",
              "Y    0\n",
              "Z    0\n",
              "A    0\n",
              "B    0\n",
              "C    0\n",
              "D    0\n",
              "dtype: int64"
            ]
          },
          "metadata": {},
          "execution_count": 11
        }
      ]
    },
    {
      "cell_type": "code",
      "source": [
        "df = df.dropna()"
      ],
      "metadata": {
        "id": "a7H_0m4A0qJ_"
      },
      "execution_count": 12,
      "outputs": []
    },
    {
      "cell_type": "code",
      "source": [
        "df.shape"
      ],
      "metadata": {
        "id": "-0G_qUD0hyXt",
        "colab": {
          "base_uri": "https://localhost:8080/"
        },
        "outputId": "dc7324c6-e65f-43c5-ed2f-82f5ebb7962d"
      },
      "execution_count": 13,
      "outputs": [
        {
          "output_type": "execute_result",
          "data": {
            "text/plain": [
              "(759, 9)"
            ]
          },
          "metadata": {},
          "execution_count": 13
        }
      ]
    },
    {
      "cell_type": "code",
      "source": [
        "f, ax = plt.subplots(1, figsize=(10,8))\n",
        "sns.heatmap(df.corr(), annot=True, ax=ax)\n"
      ],
      "metadata": {
        "colab": {
          "base_uri": "https://localhost:8080/",
          "height": 538
        },
        "id": "QvdELRJysCyV",
        "outputId": "6d73cf17-e76b-4c97-a346-3942657fc033"
      },
      "execution_count": 14,
      "outputs": [
        {
          "output_type": "execute_result",
          "data": {
            "text/plain": [
              "<matplotlib.axes._subplots.AxesSubplot at 0x7f2550540fd0>"
            ]
          },
          "metadata": {},
          "execution_count": 14
        },
        {
          "output_type": "display_data",
          "data": {
            "text/plain": [
              "<Figure size 720x576 with 2 Axes>"
            ],
            "image/png": "[encoded data removed]"
          },
          "metadata": {}
        }
      ]
    },
    {
      "cell_type": "code",
      "source": [
        "df.hist(figsize=(10, 10))"
      ],
      "metadata": {
        "colab": {
          "base_uri": "https://localhost:8080/",
          "height": 832
        },
        "id": "3VMWMxx0sRY9",
        "outputId": "0a65c1c8-5e4d-4f7c-db23-f31f4f2526df"
      },
      "execution_count": 15,
      "outputs": [
        {
          "output_type": "execute_result",
          "data": {
            "text/plain": [
              "array([[<matplotlib.axes._subplots.AxesSubplot object at 0x7f255043d8d0>,\n",
              "        <matplotlib.axes._subplots.AxesSubplot object at 0x7f254be383d0>,\n",
              "        <matplotlib.axes._subplots.AxesSubplot object at 0x7f254bded9d0>],\n",
              "       [<matplotlib.axes._subplots.AxesSubplot object at 0x7f254bd99b10>,\n",
              "        <matplotlib.axes._subplots.AxesSubplot object at 0x7f254bd69610>,\n",
              "        <matplotlib.axes._subplots.AxesSubplot object at 0x7f254bd20c10>],\n",
              "       [<matplotlib.axes._subplots.AxesSubplot object at 0x7f254bce32d0>,\n",
              "        <matplotlib.axes._subplots.AxesSubplot object at 0x7f254bc9a810>,\n",
              "        <matplotlib.axes._subplots.AxesSubplot object at 0x7f254bc9a850>]],\n",
              "      dtype=object)"
            ]
          },
          "metadata": {},
          "execution_count": 15
        },
        {
          "output_type": "display_data",
          "data": {
            "text/plain": [
              "<Figure size 720x720 with 9 Axes>"
            ],
            "image/png": "[encoded data removed]"
          },
          "metadata": {}
        }
      ]
    },
    {
      "cell_type": "code",
      "source": [
        "df.describe()"
      ],
      "metadata": {
        "colab": {
          "base_uri": "https://localhost:8080/",
          "height": 300
        },
        "id": "_5F3xs1Isgql",
        "outputId": "f836a9e9-8443-469d-c8e6-ce807193821f"
      },
      "execution_count": 16,
      "outputs": [
        {
          "output_type": "execute_result",
          "data": {
            "text/plain": [
              "                V           W           X           Y           Z           A  \\\n",
              "count  759.000000  759.000000  759.000000  759.000000  759.000000  759.000000   \n",
              "mean    -0.407657    0.218563    0.176505   -0.289735   -0.323534   -0.032245   \n",
              "std      0.386260    0.306419    0.201287    0.258480    0.375544    0.205376   \n",
              "min     -0.882353   -0.557789   -0.606557   -0.858586   -0.966903   -0.457526   \n",
              "25%     -0.764706   -0.005025    0.016393   -0.494949   -0.716312   -0.178837   \n",
              "50%     -0.529412    0.165829    0.180328   -0.292929    0.000000   -0.034277   \n",
              "75%      0.000000    0.407035    0.311475    0.000000    0.000000    0.087929   \n",
              "max      1.000000    1.000000    1.000000    1.000000    1.000000    1.000000   \n",
              "\n",
              "                B           C           D  \n",
              "count  759.000000  759.000000  759.000000  \n",
              "mean    -0.663253   -0.516162    0.653491  \n",
              "std      0.283056    0.400794    0.476171  \n",
              "min     -0.994876   -0.966667    0.000000  \n",
              "25%     -0.858241   -0.866667    0.000000  \n",
              "50%     -0.747225   -0.633333    1.000000  \n",
              "75%     -0.531597   -0.233333    1.000000  \n",
              "max      1.000000    1.000000    1.000000  "
            ],
            "text/html": [
              "\n",
              "  <div id=\"df-b4644c95-66a3-45f9-84c6-277e41e3c13e\">\n",
              "    <div class=\"colab-df-container\">\n",
              "      <div>\n",
              "<style scoped>\n",
              "    .dataframe tbody tr th:only-of-type {\n",
              "        vertical-align: middle;\n",
              "    }\n",
              "\n",
              "    .dataframe tbody tr th {\n",
              "        vertical-align: top;\n",
              "    }\n",
              "\n",
              "    .dataframe thead th {\n",
              "        text-align: right;\n",
              "    }\n",
              "</style>\n",
              "<table border=\"1\" class=\"dataframe\">\n",
              "  <thead>\n",
              "    <tr style=\"text-align: right;\">\n",
              "      <th></th>\n",
              "      <th>V</th>\n",
              "      <th>W</th>\n",
              "      <th>X</th>\n",
              "      <th>Y</th>\n",
              "      <th>Z</th>\n",
              "      <th>A</th>\n",
              "      <th>B</th>\n",
              "      <th>C</th>\n",
              "      <th>D</th>\n",
              "    </tr>\n",
              "  </thead>\n",
              "  <tbody>\n",
              "    <tr>\n",
              "      <th>count</th>\n",
              "      <td>759.000000</td>\n",
              "      <td>759.000000</td>\n",
              "      <td>759.000000</td>\n",
              "      <td>759.000000</td>\n",
              "      <td>759.000000</td>\n",
              "      <td>759.000000</td>\n",
              "      <td>759.000000</td>\n",
              "      <td>759.000000</td>\n",
              "      <td>759.000000</td>\n",
              "    </tr>\n",
              "    <tr>\n",
              "      <th>mean</th>\n",
              "      <td>-0.407657</td>\n",
              "      <td>0.218563</td>\n",
              "      <td>0.176505</td>\n",
              "      <td>-0.289735</td>\n",
              "      <td>-0.323534</td>\n",
              "      <td>-0.032245</td>\n",
              "      <td>-0.663253</td>\n",
              "      <td>-0.516162</td>\n",
              "      <td>0.653491</td>\n",
              "    </tr>\n",
              "    <tr>\n",
              "      <th>std</th>\n",
              "      <td>0.386260</td>\n",
              "      <td>0.306419</td>\n",
              "      <td>0.201287</td>\n",
              "      <td>0.258480</td>\n",
              "      <td>0.375544</td>\n",
              "      <td>0.205376</td>\n",
              "      <td>0.283056</td>\n",
              "      <td>0.400794</td>\n",
              "      <td>0.476171</td>\n",
              "    </tr>\n",
              "    <tr>\n",
              "      <th>min</th>\n",
              "      <td>-0.882353</td>\n",
              "      <td>-0.557789</td>\n",
              "      <td>-0.606557</td>\n",
              "      <td>-0.858586</td>\n",
              "      <td>-0.966903</td>\n",
              "      <td>-0.457526</td>\n",
              "      <td>-0.994876</td>\n",
              "      <td>-0.966667</td>\n",
              "      <td>0.000000</td>\n",
              "    </tr>\n",
              "    <tr>\n",
              "      <th>25%</th>\n",
              "      <td>-0.764706</td>\n",
              "      <td>-0.005025</td>\n",
              "      <td>0.016393</td>\n",
              "      <td>-0.494949</td>\n",
              "      <td>-0.716312</td>\n",
              "      <td>-0.178837</td>\n",
              "      <td>-0.858241</td>\n",
              "      <td>-0.866667</td>\n",
              "      <td>0.000000</td>\n",
              "    </tr>\n",
              "    <tr>\n",
              "      <th>50%</th>\n",
              "      <td>-0.529412</td>\n",
              "      <td>0.165829</td>\n",
              "      <td>0.180328</td>\n",
              "      <td>-0.292929</td>\n",
              "      <td>0.000000</td>\n",
              "      <td>-0.034277</td>\n",
              "      <td>-0.747225</td>\n",
              "      <td>-0.633333</td>\n",
              "      <td>1.000000</td>\n",
              "    </tr>\n",
              "    <tr>\n",
              "      <th>75%</th>\n",
              "      <td>0.000000</td>\n",
              "      <td>0.407035</td>\n",
              "      <td>0.311475</td>\n",
              "      <td>0.000000</td>\n",
              "      <td>0.000000</td>\n",
              "      <td>0.087929</td>\n",
              "      <td>-0.531597</td>\n",
              "      <td>-0.233333</td>\n",
              "      <td>1.000000</td>\n",
              "    </tr>\n",
              "    <tr>\n",
              "      <th>max</th>\n",
              "      <td>1.000000</td>\n",
              "      <td>1.000000</td>\n",
              "      <td>1.000000</td>\n",
              "      <td>1.000000</td>\n",
              "      <td>1.000000</td>\n",
              "      <td>1.000000</td>\n",
              "      <td>1.000000</td>\n",
              "      <td>1.000000</td>\n",
              "      <td>1.000000</td>\n",
              "    </tr>\n",
              "  </tbody>\n",
              "</table>\n",
              "</div>\n",
              "      <button class=\"colab-df-convert\" onclick=\"convertToInteractive('df-b4644c95-66a3-45f9-84c6-277e41e3c13e')\"\n",
              "              title=\"Convert this dataframe to an interactive table.\"\n",
              "              style=\"display:none;\">\n",
              "        \n",
              "  <svg xmlns=\"http://www.w3.org/2000/svg\" height=\"24px\"viewBox=\"0 0 24 24\"\n",
              "       width=\"24px\">\n",
              "    <path d=\"M0 0h24v24H0V0z\" fill=\"none\"/>\n",
              "    <path d=\"M18.56 5.44l.94 2.06.94-2.06 2.06-.94-2.06-.94-.94-2.06-.94 2.06-2.06.94zm-11 1L8.5 8.5l.94-2.06 2.06-.94-2.06-.94L8.5 2.5l-.94 2.06-2.06.94zm10 10l.94 2.06.94-2.06 2.06-.94-2.06-.94-.94-2.06-.94 2.06-2.06.94z\"/><path d=\"M17.41 7.96l-1.37-1.37c-.4-.4-.92-.59-1.43-.59-.52 0-1.04.2-1.43.59L10.3 9.45l-7.72 7.72c-.78.78-.78 2.05 0 2.83L4 21.41c.39.39.9.59 1.41.59.51 0 1.02-.2 1.41-.59l7.78-7.78 2.81-2.81c.8-.78.8-2.07 0-2.86zM5.41 20L4 18.59l7.72-7.72 1.47 1.35L5.41 20z\"/>\n",
              "  </svg>\n",
              "      </button>\n",
              "      \n",
              "  <style>\n",
              "    .colab-df-container {\n",
              "      display:flex;\n",
              "      flex-wrap:wrap;\n",
              "      gap: 12px;\n",
              "    }\n",
              "\n",
              "    .colab-df-convert {\n",
              "      background-color: #E8F0FE;\n",
              "      border: none;\n",
              "      border-radius: 50%;\n",
              "      cursor: pointer;\n",
              "      display: none;\n",
              "      fill: #1967D2;\n",
              "      height: 32px;\n",
              "      padding: 0 0 0 0;\n",
              "      width: 32px;\n",
              "    }\n",
              "\n",
              "    .colab-df-convert:hover {\n",
              "      background-color: #E2EBFA;\n",
              "      box-shadow: 0px 1px 2px rgba(60, 64, 67, 0.3), 0px 1px 3px 1px rgba(60, 64, 67, 0.15);\n",
              "      fill: #174EA6;\n",
              "    }\n",
              "\n",
              "    [theme=dark] .colab-df-convert {\n",
              "      background-color: #3B4455;\n",
              "      fill: #D2E3FC;\n",
              "    }\n",
              "\n",
              "    [theme=dark] .colab-df-convert:hover {\n",
              "      background-color: #434B5C;\n",
              "      box-shadow: 0px 1px 3px 1px rgba(0, 0, 0, 0.15);\n",
              "      filter: drop-shadow(0px 1px 2px rgba(0, 0, 0, 0.3));\n",
              "      fill: #FFFFFF;\n",
              "    }\n",
              "  </style>\n",
              "\n",
              "      <script>\n",
              "        const buttonEl =\n",
              "          document.querySelector('#df-b4644c95-66a3-45f9-84c6-277e41e3c13e button.colab-df-convert');\n",
              "        buttonEl.style.display =\n",
              "          google.colab.kernel.accessAllowed ? 'block' : 'none';\n",
              "\n",
              "        async function convertToInteractive(key) {\n",
              "          const element = document.querySelector('#df-b4644c95-66a3-45f9-84c6-277e41e3c13e');\n",
              "          const dataTable =\n",
              "            await google.colab.kernel.invokeFunction('convertToInteractive',\n",
              "                                                     [key], {});\n",
              "          if (!dataTable) return;\n",
              "\n",
              "          const docLinkHtml = 'Like what you see? Visit the ' +\n",
              "            '<a target=\"_blank\" href=https://colab.research.google.com/notebooks/data_table.ipynb>data table notebook</a>'\n",
              "            + ' to learn more about interactive tables.';\n",
              "          element.innerHTML = '';\n",
              "          dataTable['output_type'] = 'display_data';\n",
              "          await google.colab.output.renderOutput(dataTable, element);\n",
              "          const docLink = document.createElement('div');\n",
              "          docLink.innerHTML = docLinkHtml;\n",
              "          element.appendChild(docLink);\n",
              "        }\n",
              "      </script>\n",
              "    </div>\n",
              "  </div>\n",
              "  "
            ]
          },
          "metadata": {},
          "execution_count": 16
        }
      ]
    },
    {
      "cell_type": "code",
      "source": [
        "# Preparation of the data\n",
        "# Split the data into a training set, dev set and test set.\n",
        "# Normalize the data.\n",
        "\n",
        "from sklearn.preprocessing import Normalizer\n",
        "\n",
        "\n",
        "X = df.drop('D', axis =1).values\n",
        "y = df.D.values\n",
        "X_train, X_test, y_train, y_test = train_test_split(X, y, test_size=0.3, random_state=2)\n",
        "\n",
        "\n",
        "nl = Normalizer()\n",
        "nl.fit(X_train)\n",
        "X_train = nl.transform(X_train)\n",
        "X_dev, X_test, y_dev, y_test = train_test_split(X_test, y_test, test_size=0.5, random_state=2)\n",
        "X_dev = nl.transform(X_dev)\n",
        "X_test = nl.transform(X_test)\n",
        "\n"
      ],
      "metadata": {
        "id": "zWx-GQa0eHdg"
      },
      "execution_count": 17,
      "outputs": []
    },
    {
      "cell_type": "code",
      "source": [
        "# Neural Network arhitecture\n",
        "# 3 hidden layers\n",
        "# Output layer - sigmoid activation.\\\\\n",
        "\n",
        "from keras.layers import Activation, Dense, Dropout, BatchNormalization, Input\n",
        "from keras.models import Model\n",
        "\n",
        "def nn():\n",
        "    inputs = Input(name='inputs', shape=[X_train.shape[1],])\n",
        "    layer = Dense(128, name='FC1')(inputs)\n",
        "    layer = BatchNormalization(name='BC1')(layer)\n",
        "    layer = Activation('relu', name='Activation1')(layer)\n",
        "    layer = Dropout(0.3, name='Dropout1')(layer)\n",
        "    layer = Dense(128, name='FC2')(layer)\n",
        "    layer = BatchNormalization(name='BC2')(layer)\n",
        "    layer = Activation('relu', name='Activation2')(layer)\n",
        "    layer = Dropout(0.3, name='Dropout2')(layer)\n",
        "    layer = Dense(128, name='FC3')(layer)\n",
        "    layer = BatchNormalization(name='BC3')(layer)\n",
        "    layer = Dropout(0.3, name='Dropout3')(layer)\n",
        "    layer = Dense(1, name='OutLayer')(layer)\n",
        "    layer = Activation('sigmoid', name='sigmoid')(layer)\n",
        "    model = Model(inputs=inputs, outputs=layer)\n",
        "    return model"
      ],
      "metadata": {
        "id": "CI_JmdLreH97"
      },
      "execution_count": 18,
      "outputs": []
    },
    {
      "cell_type": "code",
      "source": [
        "model = nn()\n",
        "model.summary()"
      ],
      "metadata": {
        "colab": {
          "base_uri": "https://localhost:8080/"
        },
        "id": "nH0yBurZeIDk",
        "outputId": "07ea3130-caef-4b4e-a080-7d1706271be0"
      },
      "execution_count": 19,
      "outputs": [
        {
          "output_type": "stream",
          "name": "stdout",
          "text": [
            "Model: \"model\"\n",
            "_________________________________________________________________\n",
            " Layer (type)                Output Shape              Param #   \n",
            "=================================================================\n",
            " inputs (InputLayer)         [(None, 8)]               0         \n",
            "                                                                 \n",
            " FC1 (Dense)                 (None, 128)               1152      \n",
            "                                                                 \n",
            " BC1 (BatchNormalization)    (None, 128)               512       \n",
            "                                                                 \n",
            " Activation1 (Activation)    (None, 128)               0         \n",
            "                                                                 \n",
            " Dropout1 (Dropout)          (None, 128)               0         \n",
            "                                                                 \n",
            " FC2 (Dense)                 (None, 128)               16512     \n",
            "                                                                 \n",
            " BC2 (BatchNormalization)    (None, 128)               512       \n",
            "                                                                 \n",
            " Activation2 (Activation)    (None, 128)               0         \n",
            "                                                                 \n",
            " Dropout2 (Dropout)          (None, 128)               0         \n",
            "                                                                 \n",
            " FC3 (Dense)                 (None, 128)               16512     \n",
            "                                                                 \n",
            " BC3 (BatchNormalization)    (None, 128)               512       \n",
            "                                                                 \n",
            " Dropout3 (Dropout)          (None, 128)               0         \n",
            "                                                                 \n",
            " OutLayer (Dense)            (None, 1)                 129       \n",
            "                                                                 \n",
            " sigmoid (Activation)        (None, 1)                 0         \n",
            "                                                                 \n",
            "=================================================================\n",
            "Total params: 35,841\n",
            "Trainable params: 35,073\n",
            "Non-trainable params: 768\n",
            "_________________________________________________________________\n"
          ]
        }
      ]
    },
    {
      "cell_type": "code",
      "source": [
        "#The parameters used in my model, there is a total of 35,073 trainable parameters"
      ],
      "metadata": {
        "id": "E3Yg4RX5Q6v-"
      },
      "execution_count": 20,
      "outputs": []
    },
    {
      "cell_type": "code",
      "source": [
        "from tensorflow import keras\n",
        "from tensorflow.keras.optimizers import Adam, SGD\n",
        "\n",
        "model.compile(loss='binary_crossentropy', optimizer=SGD(learning_rate=0.001), metrics=['accuracy'])"
      ],
      "metadata": {
        "id": "gut_eJ9IeIID"
      },
      "execution_count": 21,
      "outputs": []
    },
    {
      "cell_type": "code",
      "source": [
        "#callbacks\n",
        "early_stopping = EarlyStopping(patience=20, min_delta=0.0001)"
      ],
      "metadata": {
        "id": "M4Jc8eideILx"
      },
      "execution_count": 22,
      "outputs": []
    },
    {
      "cell_type": "code",
      "source": [
        "h = model.fit(x=X_train, y=y_train, epochs=500, batch_size =20 , validation_data=(X_dev, y_dev), callbacks=[early_stopping], verbose=1)\n",
        "h"
      ],
      "metadata": {
        "colab": {
          "base_uri": "https://localhost:8080/"
        },
        "id": "PF2stShAeIPd",
        "outputId": "21463b47-5933-467e-cf3f-3ebd8b8bc496"
      },
      "execution_count": 23,
      "outputs": [
        {
          "output_type": "stream",
          "name": "stdout",
          "text": [
            "Epoch 1/500\n",
            "27/27 [==============================] - 2s 15ms/step - loss: 0.9438 - accuracy: 0.4991 - val_loss: 0.6808 - val_accuracy: 0.7105\n",
            "Epoch 2/500\n",
            "27/27 [==============================] - 0s 6ms/step - loss: 0.8892 - accuracy: 0.5254 - val_loss: 0.6411 - val_accuracy: 0.7193\n",
            "Epoch 3/500\n",
            "27/27 [==============================] - 0s 5ms/step - loss: 0.8239 - accuracy: 0.5631 - val_loss: 0.6099 - val_accuracy: 0.7193\n",
            "Epoch 4/500\n",
            "27/27 [==============================] - 0s 5ms/step - loss: 0.8225 - accuracy: 0.5800 - val_loss: 0.5942 - val_accuracy: 0.7193\n",
            "Epoch 5/500\n",
            "27/27 [==============================] - 0s 4ms/step - loss: 0.7916 - accuracy: 0.5669 - val_loss: 0.5858 - val_accuracy: 0.7193\n",
            "Epoch 6/500\n",
            "27/27 [==============================] - 0s 5ms/step - loss: 0.7397 - accuracy: 0.6139 - val_loss: 0.5808 - val_accuracy: 0.7193\n",
            "Epoch 7/500\n",
            "27/27 [==============================] - 0s 5ms/step - loss: 0.7432 - accuracy: 0.6158 - val_loss: 0.5773 - val_accuracy: 0.7193\n",
            "Epoch 8/500\n",
            "27/27 [==============================] - 0s 4ms/step - loss: 0.7638 - accuracy: 0.6177 - val_loss: 0.5732 - val_accuracy: 0.7105\n",
            "Epoch 9/500\n",
            "27/27 [==============================] - 0s 5ms/step - loss: 0.7693 - accuracy: 0.5970 - val_loss: 0.5684 - val_accuracy: 0.7193\n",
            "Epoch 10/500\n",
            "27/27 [==============================] - 0s 9ms/step - loss: 0.7273 - accuracy: 0.6309 - val_loss: 0.5628 - val_accuracy: 0.7193\n",
            "Epoch 11/500\n",
            "27/27 [==============================] - 0s 5ms/step - loss: 0.7015 - accuracy: 0.6535 - val_loss: 0.5563 - val_accuracy: 0.7105\n",
            "Epoch 12/500\n",
            "27/27 [==============================] - 0s 6ms/step - loss: 0.6954 - accuracy: 0.6516 - val_loss: 0.5520 - val_accuracy: 0.7018\n",
            "Epoch 13/500\n",
            "27/27 [==============================] - 0s 5ms/step - loss: 0.6742 - accuracy: 0.6798 - val_loss: 0.5497 - val_accuracy: 0.7018\n",
            "Epoch 14/500\n",
            "27/27 [==============================] - 0s 5ms/step - loss: 0.6590 - accuracy: 0.6780 - val_loss: 0.5489 - val_accuracy: 0.7105\n",
            "Epoch 15/500\n",
            "27/27 [==============================] - 0s 6ms/step - loss: 0.7102 - accuracy: 0.6554 - val_loss: 0.5519 - val_accuracy: 0.7456\n",
            "Epoch 16/500\n",
            "27/27 [==============================] - 0s 6ms/step - loss: 0.6988 - accuracy: 0.6591 - val_loss: 0.5529 - val_accuracy: 0.7544\n",
            "Epoch 17/500\n",
            "27/27 [==============================] - 0s 6ms/step - loss: 0.6848 - accuracy: 0.6798 - val_loss: 0.5580 - val_accuracy: 0.7368\n",
            "Epoch 18/500\n",
            "27/27 [==============================] - 0s 6ms/step - loss: 0.6661 - accuracy: 0.6798 - val_loss: 0.5611 - val_accuracy: 0.7456\n",
            "Epoch 19/500\n",
            "27/27 [==============================] - 0s 7ms/step - loss: 0.6548 - accuracy: 0.6893 - val_loss: 0.5667 - val_accuracy: 0.7368\n",
            "Epoch 20/500\n",
            "27/27 [==============================] - 0s 6ms/step - loss: 0.6599 - accuracy: 0.6761 - val_loss: 0.5733 - val_accuracy: 0.7105\n",
            "Epoch 21/500\n",
            "27/27 [==============================] - 0s 6ms/step - loss: 0.6676 - accuracy: 0.6742 - val_loss: 0.5764 - val_accuracy: 0.7281\n",
            "Epoch 22/500\n",
            "27/27 [==============================] - 0s 6ms/step - loss: 0.6250 - accuracy: 0.6930 - val_loss: 0.5801 - val_accuracy: 0.7544\n",
            "Epoch 23/500\n",
            "27/27 [==============================] - 0s 5ms/step - loss: 0.6559 - accuracy: 0.6836 - val_loss: 0.5801 - val_accuracy: 0.7544\n",
            "Epoch 24/500\n",
            "27/27 [==============================] - 0s 6ms/step - loss: 0.6462 - accuracy: 0.7081 - val_loss: 0.5852 - val_accuracy: 0.7544\n",
            "Epoch 25/500\n",
            "27/27 [==============================] - 0s 9ms/step - loss: 0.6726 - accuracy: 0.7100 - val_loss: 0.5843 - val_accuracy: 0.7632\n",
            "Epoch 26/500\n",
            "27/27 [==============================] - 0s 8ms/step - loss: 0.6526 - accuracy: 0.6685 - val_loss: 0.5860 - val_accuracy: 0.7632\n",
            "Epoch 27/500\n",
            "27/27 [==============================] - 0s 6ms/step - loss: 0.6707 - accuracy: 0.6817 - val_loss: 0.5882 - val_accuracy: 0.7544\n",
            "Epoch 28/500\n",
            "27/27 [==============================] - 0s 5ms/step - loss: 0.6745 - accuracy: 0.6761 - val_loss: 0.5879 - val_accuracy: 0.7544\n",
            "Epoch 29/500\n",
            "27/27 [==============================] - 0s 6ms/step - loss: 0.6517 - accuracy: 0.7024 - val_loss: 0.5884 - val_accuracy: 0.7544\n",
            "Epoch 30/500\n",
            "27/27 [==============================] - 0s 8ms/step - loss: 0.6532 - accuracy: 0.6987 - val_loss: 0.5914 - val_accuracy: 0.7544\n",
            "Epoch 31/500\n",
            "27/27 [==============================] - 0s 7ms/step - loss: 0.6749 - accuracy: 0.6704 - val_loss: 0.5896 - val_accuracy: 0.7456\n",
            "Epoch 32/500\n",
            "27/27 [==============================] - 0s 5ms/step - loss: 0.6351 - accuracy: 0.6968 - val_loss: 0.5930 - val_accuracy: 0.7632\n",
            "Epoch 33/500\n",
            "27/27 [==============================] - 0s 5ms/step - loss: 0.6147 - accuracy: 0.6949 - val_loss: 0.5915 - val_accuracy: 0.7544\n",
            "Epoch 34/500\n",
            "27/27 [==============================] - 0s 4ms/step - loss: 0.6414 - accuracy: 0.6704 - val_loss: 0.5923 - val_accuracy: 0.7456\n"
          ]
        },
        {
          "output_type": "execute_result",
          "data": {
            "text/plain": [
              "<keras.callbacks.History at 0x7f254bdc2c90>"
            ]
          },
          "metadata": {},
          "execution_count": 23
        }
      ]
    },
    {
      "cell_type": "code",
      "source": [
        "# Metrics\n",
        "\n",
        "a = [X_train, X_dev, X_test]\n",
        "b = [y_train, y_dev, y_test]\n",
        "for i,(x,y) in enumerate(zip(a, b)):\n",
        "    y_pred = model.predict(x)\n",
        "    y_pred = np.around(y_pred)\n",
        "    y_pred = np.asarray(y_pred)\n",
        "    if i == 0:\n",
        "        print('Training set:')\n",
        "        print('\\tAccuracy:{:0.3f}\\n\\tClassification Report\\n{}'.format(accuracy_score(y, y_pred), \n",
        "                                                                  classification_report(y, y_pred)))\n",
        "    elif i == 1:\n",
        "        print('Dev set:')\n",
        "        print('\\tAccuracy:{:0.3f}\\n\\tClassification Report\\n{}'.format(accuracy_score(y, y_pred), \n",
        "                                                                  classification_report(y, y_pred)))\n",
        "    else:\n",
        "        print('Test set:')\n",
        "        print('\\tAccuracy:{:0.3f}\\n\\tClassification Report\\n{}'.format(accuracy_score(y, y_pred), \n",
        "                                                                  classification_report(y, y_pred)))\n",
        "    \n"
      ],
      "metadata": {
        "colab": {
          "base_uri": "https://localhost:8080/"
        },
        "id": "KQ_db_ObeITH",
        "outputId": "c51398ba-4686-433c-d1d9-35a79e053a4e"
      },
      "execution_count": 24,
      "outputs": [
        {
          "output_type": "stream",
          "name": "stdout",
          "text": [
            "Training set:\n",
            "\tAccuracy:0.768\n",
            "\tClassification Report\n",
            "              precision    recall  f1-score   support\n",
            "\n",
            "           0       0.67      0.68      0.68       190\n",
            "           1       0.82      0.82      0.82       341\n",
            "\n",
            "    accuracy                           0.77       531\n",
            "   macro avg       0.75      0.75      0.75       531\n",
            "weighted avg       0.77      0.77      0.77       531\n",
            "\n",
            "Dev set:\n",
            "\tAccuracy:0.746\n",
            "\tClassification Report\n",
            "              precision    recall  f1-score   support\n",
            "\n",
            "           0       0.54      0.62      0.58        32\n",
            "           1       0.84      0.79      0.82        82\n",
            "\n",
            "    accuracy                           0.75       114\n",
            "   macro avg       0.69      0.71      0.70       114\n",
            "weighted avg       0.76      0.75      0.75       114\n",
            "\n",
            "Test set:\n",
            "\tAccuracy:0.763\n",
            "\tClassification Report\n",
            "              precision    recall  f1-score   support\n",
            "\n",
            "           0       0.66      0.71      0.68        41\n",
            "           1       0.83      0.79      0.81        73\n",
            "\n",
            "    accuracy                           0.76       114\n",
            "   macro avg       0.74      0.75      0.75       114\n",
            "weighted avg       0.77      0.76      0.76       114\n",
            "\n"
          ]
        }
      ]
    },
    {
      "cell_type": "code",
      "source": [
        "from sklearn.metrics import confusion_matrix\n",
        "cm=confusion_matrix(y_test,y_pred)\n",
        "cm"
      ],
      "metadata": {
        "colab": {
          "base_uri": "https://localhost:8080/"
        },
        "id": "74Hrd8LuIeWD",
        "outputId": "cca26fd6-23e5-4cf4-8ce9-fdd74f92297b"
      },
      "execution_count": 25,
      "outputs": [
        {
          "output_type": "execute_result",
          "data": {
            "text/plain": [
              "array([[29, 12],\n",
              "       [15, 58]])"
            ]
          },
          "metadata": {},
          "execution_count": 25
        }
      ]
    },
    {
      "cell_type": "code",
      "source": [
        "plt.figure(figsize=(7,7))\n",
        "sns.heatmap(cm,annot=True)\n",
        "plt.xlabel('Actual Values')\n",
        "plt.ylabel('Predicted Values')"
      ],
      "metadata": {
        "colab": {
          "base_uri": "https://localhost:8080/",
          "height": 497
        },
        "id": "e4JU4p1LIksG",
        "outputId": "f83bc5e6-ef8c-4817-dde5-0390a6987e0f"
      },
      "execution_count": 26,
      "outputs": [
        {
          "output_type": "execute_result",
          "data": {
            "text/plain": [
              "Text(18.82, 0.5, 'Predicted Values')"
            ]
          },
          "metadata": {},
          "execution_count": 26
        },
        {
          "output_type": "display_data",
          "data": {
            "text/plain": [
              "<Figure size 504x504 with 2 Axes>"
            ],
            "image/png": "[encoded data removed]"
          },
          "metadata": {}
        }
      ]
    },
    {
      "cell_type": "code",
      "source": [
        "from keras.callbacks import History\n",
        "\n",
        "history = History()\n",
        "\n",
        "# check the keys of history object\n",
        "print(history.history.keys())\n"
      ],
      "metadata": {
        "colab": {
          "base_uri": "https://localhost:8080/"
        },
        "id": "Q4xIFAWFoGaW",
        "outputId": "755d33ac-baa1-4683-b0c6-f22f5a5df82d"
      },
      "execution_count": 27,
      "outputs": [
        {
          "output_type": "stream",
          "name": "stdout",
          "text": [
            "dict_keys([])\n"
          ]
        }
      ]
    },
    {
      "cell_type": "code",
      "source": [
        "h.history"
      ],
      "metadata": {
        "id": "1Gh44vGohgZh",
        "colab": {
          "base_uri": "https://localhost:8080/"
        },
        "outputId": "586d183f-56f7-42ab-9229-24574146e57d"
      },
      "execution_count": 28,
      "outputs": [
        {
          "output_type": "execute_result",
          "data": {
            "text/plain": [
              "{'loss': [0.9438068270683289,\n",
              "  0.8891976475715637,\n",
              "  0.8238722681999207,\n",
              "  0.8225188255310059,\n",
              "  0.7916378974914551,\n",
              "  0.7397000789642334,\n",
              "  0.7431953549385071,\n",
              "  0.7637677192687988,\n",
              "  0.7693057656288147,\n",
              "  0.7273122668266296,\n",
              "  0.701509952545166,\n",
              "  0.6953634023666382,\n",
              "  0.6742156147956848,\n",
              "  0.6590307354927063,\n",
              "  0.7101758122444153,\n",
              "  0.6987786889076233,\n",
              "  0.6848090887069702,\n",
              "  0.666079580783844,\n",
              "  0.6548120975494385,\n",
              "  0.659868597984314,\n",
              "  0.667617678642273,\n",
              "  0.6249693036079407,\n",
              "  0.6558536291122437,\n",
              "  0.6461523771286011,\n",
              "  0.6725890040397644,\n",
              "  0.6526415944099426,\n",
              "  0.6706575751304626,\n",
              "  0.6744812726974487,\n",
              "  0.6517236232757568,\n",
              "  0.6531542539596558,\n",
              "  0.6748936176300049,\n",
              "  0.6351456046104431,\n",
              "  0.6147182583808899,\n",
              "  0.6414283514022827],\n",
              " 'accuracy': [0.4990583658218384,\n",
              "  0.5254237055778503,\n",
              "  0.5630885362625122,\n",
              "  0.5800376534461975,\n",
              "  0.5668550133705139,\n",
              "  0.6139359474182129,\n",
              "  0.6158192157745361,\n",
              "  0.6177024245262146,\n",
              "  0.5969868302345276,\n",
              "  0.630885124206543,\n",
              "  0.6534839868545532,\n",
              "  0.6516007781028748,\n",
              "  0.6798493266105652,\n",
              "  0.6779661178588867,\n",
              "  0.6553672552108765,\n",
              "  0.6591337323188782,\n",
              "  0.6798493266105652,\n",
              "  0.6798493266105652,\n",
              "  0.6892655491828918,\n",
              "  0.6760828495025635,\n",
              "  0.674199640750885,\n",
              "  0.6930320262908936,\n",
              "  0.6836158037185669,\n",
              "  0.7080979347229004,\n",
              "  0.7099811434745789,\n",
              "  0.6685498952865601,\n",
              "  0.6817325949668884,\n",
              "  0.6760828495025635,\n",
              "  0.7024481892585754,\n",
              "  0.6986817121505737,\n",
              "  0.6704331636428833,\n",
              "  0.6967985033988953,\n",
              "  0.694915235042572,\n",
              "  0.6704331636428833],\n",
              " 'val_loss': [0.6808156967163086,\n",
              "  0.6411063075065613,\n",
              "  0.6098912358283997,\n",
              "  0.5942354202270508,\n",
              "  0.5858263969421387,\n",
              "  0.5808030366897583,\n",
              "  0.5772828459739685,\n",
              "  0.5732237100601196,\n",
              "  0.5683940649032593,\n",
              "  0.5627873539924622,\n",
              "  0.556276261806488,\n",
              "  0.5520401000976562,\n",
              "  0.5497217774391174,\n",
              "  0.5488564372062683,\n",
              "  0.551895260810852,\n",
              "  0.5529201626777649,\n",
              "  0.5579977035522461,\n",
              "  0.5611339211463928,\n",
              "  0.5667358636856079,\n",
              "  0.5733210444450378,\n",
              "  0.5763857364654541,\n",
              "  0.5801436901092529,\n",
              "  0.5800999402999878,\n",
              "  0.5851848125457764,\n",
              "  0.5842685103416443,\n",
              "  0.5860361456871033,\n",
              "  0.5881670117378235,\n",
              "  0.5879416465759277,\n",
              "  0.5883930921554565,\n",
              "  0.5913664102554321,\n",
              "  0.5896059274673462,\n",
              "  0.5929617881774902,\n",
              "  0.5914884209632874,\n",
              "  0.5922747254371643],\n",
              " 'val_accuracy': [0.7105262875556946,\n",
              "  0.719298243522644,\n",
              "  0.719298243522644,\n",
              "  0.719298243522644,\n",
              "  0.719298243522644,\n",
              "  0.719298243522644,\n",
              "  0.719298243522644,\n",
              "  0.7105262875556946,\n",
              "  0.719298243522644,\n",
              "  0.719298243522644,\n",
              "  0.7105262875556946,\n",
              "  0.7017543911933899,\n",
              "  0.7017543911933899,\n",
              "  0.7105262875556946,\n",
              "  0.7456140518188477,\n",
              "  0.7543859481811523,\n",
              "  0.7368420958518982,\n",
              "  0.7456140518188477,\n",
              "  0.7368420958518982,\n",
              "  0.7105262875556946,\n",
              "  0.7280701994895935,\n",
              "  0.7543859481811523,\n",
              "  0.7543859481811523,\n",
              "  0.7543859481811523,\n",
              "  0.7631579041481018,\n",
              "  0.7631579041481018,\n",
              "  0.7543859481811523,\n",
              "  0.7543859481811523,\n",
              "  0.7543859481811523,\n",
              "  0.7543859481811523,\n",
              "  0.7456140518188477,\n",
              "  0.7631579041481018,\n",
              "  0.7543859481811523,\n",
              "  0.7456140518188477]}"
            ]
          },
          "metadata": {},
          "execution_count": 28
        }
      ]
    },
    {
      "cell_type": "code",
      "source": [
        "pd.DataFrame(h.history).plot(figsize=(8,5))\n",
        "plt.show()"
      ],
      "metadata": {
        "colab": {
          "base_uri": "https://localhost:8080/",
          "height": 340
        },
        "id": "nVCYrUBb8Qad",
        "outputId": "e3870e94-2078-4041-ce1a-ca1b815e7404"
      },
      "execution_count": 29,
      "outputs": [
        {
          "output_type": "display_data",
          "data": {
            "text/plain": [
              "<Figure size 576x360 with 1 Axes>"
            ],
            "image/png": "[encoded data removed]"
          },
          "metadata": {}
        }
      ]
    },
    {
      "cell_type": "code",
      "source": [
        "\n",
        "\n",
        "plt.plot(h.history['accuracy'])\n",
        "plt.plot(h.history['val_accuracy'])\n",
        "plt.title('model accuracy')\n",
        "plt.ylabel('accuracy')\n",
        "plt.xlabel('epoch')\n",
        "plt.legend(['train', 'val'], loc='upper left')\n",
        "plt.show()"
      ],
      "metadata": {
        "colab": {
          "base_uri": "https://localhost:8080/",
          "height": 325
        },
        "id": "xYHAJ4Uy7nAT",
        "outputId": "6836034c-090f-4c0f-c77e-145d827e2219"
      },
      "execution_count": 30,
      "outputs": [
        {
          "output_type": "display_data",
          "data": {
            "text/plain": [
              "<Figure size 432x288 with 1 Axes>"
            ],
            "image/png": "[encoded data removed]"
          },
          "metadata": {}
        }
      ]
    },
    {
      "cell_type": "code",
      "source": [
        "plt.plot(h.history['loss'])\n",
        "plt.plot(h.history['val_loss'])\n",
        "plt.title('model loss')\n",
        "plt.ylabel('loss')\n",
        "plt.xlabel('epoch')\n",
        "plt.legend(['train', 'val'], loc='upper right')\n",
        "plt.show()"
      ],
      "metadata": {
        "colab": {
          "base_uri": "https://localhost:8080/",
          "height": 325
        },
        "id": "hqWA_0Ib7m90",
        "outputId": "ff6f7110-56b9-414e-8179-da4f6028e886"
      },
      "execution_count": 31,
      "outputs": [
        {
          "output_type": "display_data",
          "data": {
            "text/plain": [
              "<Figure size 432x288 with 1 Axes>"
            ],
            "image/png": "[encoded data removed]"
          },
          "metadata": {}
        }
      ]
    },
    {
      "cell_type": "markdown",
      "source": [
        "**#Hypothesis**\n",
        "\n",
        "> We can change the epochs, batch size , number of hidden layers, optimizer to make changes to the accuarcy of the model.Further we can also change the activation funcations to softmax, reLU, leakyLU etc for experimentation. We can change into two different ways to implement categorical cross entropy\n",
        ".We can also chnage the number of dense layers.\n",
        "\n",
        "\n",
        "\n",
        " \n",
        "\n",
        "\n",
        "**#Observation**\n",
        "\n",
        "\n",
        "> \n",
        "1.   Epochs = 200;batch_size = 20; optimizer= Adam ; accuarcy(Tets set) = 80\n",
        "2.   Epochs = 500 ;batch_size = 20; optimizer= Adam ; ccuarcy(Tets set) = 83\n",
        "3.   Epochs = 500;batch_size = 25; optimizer= Adam ; accuarcy(Tets set) = 83.33\n",
        "4.   Epochs = 500;batch_size = 32; optimizer= Adam ; accuarcy(Tets set) = 83.33\n",
        "\n",
        "\n",
        "1. Epochs = 500;batch_size = 20; optimizer= SDG ; accuarcy(Tets set) = 83.3\n",
        "2. Epochs = 600;batch_size = 32; optimizer= SDG ; accuarcy(Tets set) = 83.3\n",
        "3. Epochs = 100;batch_size = 25; optimizer= SDG ; accuarcy(Tets set) = 82.5\n",
        "\n",
        "\n",
        "**#Summary**\n",
        "\n",
        "\n",
        "> With various trails I chose SDG over Adam ,SGD better generalizes than Adam as it has helped the model produce better accuarcy with changes in ephocs and batch size respectively. Gradient Descent is the most basic but most used optimization algorithm. It's used heavily in linear regression and classification algorithms. Adam is said to be best for multiclass classfication.\n",
        "\n"
      ],
      "metadata": {
        "id": "1HxE_La8_I-D"
      }
    },
    {
      "cell_type": "markdown",
      "source": [
        "*Refereces*:\n",
        "\n",
        "https://www.tensorflow.org/tutorials/load_data/csv https://betterprogramming.pub/\n",
        "build-your-first-machine-learning-model-with-tensorflow-ffc2f7cbf4f2*"
      ],
      "metadata": {
        "id": "WScB3FdyA-rJ"
      }
    },
    {
      "cell_type": "code",
      "source": [],
      "metadata": {
        "id": "3UUaZb90A0CI"
      },
      "execution_count": null,
      "outputs": []
    }
  ]
}